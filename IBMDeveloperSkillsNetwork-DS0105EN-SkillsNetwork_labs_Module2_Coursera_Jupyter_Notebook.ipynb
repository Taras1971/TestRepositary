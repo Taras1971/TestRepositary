{
  "metadata": {
    "kernelspec": {
      "name": "python",
      "display_name": "Pyolite",
      "language": "python"
    },
    "language_info": {
      "codemirror_mode": {
        "name": "python",
        "version": 3
      },
      "file_extension": ".py",
      "mimetype": "text/x-python",
      "name": "python",
      "nbconvert_exporter": "python",
      "pygments_lexer": "ipython3",
      "version": "3.8"
    }
  },
  "nbformat_minor": 4,
  "nbformat": 4,
  "cells": [
    {
      "cell_type": "markdown",
      "source": "<center>\n    <img src=\"https://cf-courses-data.s3.us.cloud-object-storage.appdomain.cloud/IBMDeveloperSkillsNetwork-DS0105EN-SkillsNetwork/labs/Module2/images/SN_web_lightmode.png\" width=\"300\" alt=\"cognitiveclass.ai logo\"  />\n</center>\n",
      "metadata": {}
    },
    {
      "cell_type": "markdown",
      "source": "#### Add your code below following the instructions given in the course\n",
      "metadata": {}
    },
    {
      "cell_type": "markdown",
      "source": "# My Jupyter Notebook on IBM Watson Studio",
      "metadata": {}
    },
    {
      "cell_type": "markdown",
      "source": "**Taras Tkachenko**\n\nData Analyst",
      "metadata": {}
    },
    {
      "cell_type": "markdown",
      "source": "*I am interested in data science because this area provides many opportunities for interesting work*",
      "metadata": {}
    },
    {
      "cell_type": "markdown",
      "source": "### In the next cell 2 is multiplied by 5",
      "metadata": {}
    },
    {
      "cell_type": "code",
      "source": "2*5",
      "metadata": {
        "trusted": true
      },
      "execution_count": 3,
      "outputs": [
        {
          "execution_count": 3,
          "output_type": "execute_result",
          "data": {
            "text/plain": "10"
          },
          "metadata": {}
        }
      ]
    },
    {
      "cell_type": "markdown",
      "source": "-------------------------------------------------------------\n1. First\n2. Second\n3. Third\n\nJupyter’s website https://jupyter-notebook.readthedocs.io/\n\n~~strikethrough~~\n\n![image.png](attachment:0c4570fa-1aea-4712-b11f-771ae3baf30f.png)\n> JupyterLab is the latest web-based interactive development environment for notebooks, code, and data. Its flexible interface allows users to configure and arrange workflows in data science, scientific computing, computational journalism, and machine learning. A modular design invites extensions to expand and enrich functionality.\n\n| header | header | header |\n|--------|--------|--------|\n|  cell  |  cell  |  cell  |\n|  cell  |  cell  |  cell  |\n|  cell  |  cell  |  cell  |\n|  cell  |  cell  |  cell  |",
      "metadata": {},
      "attachments": {
        "0c4570fa-1aea-4712-b11f-771ae3baf30f.png": {
          "image/png": "[encoded data removed]"
        }
      }
    }
  ]
}